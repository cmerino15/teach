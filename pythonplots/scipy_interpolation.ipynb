{
  "nbformat": 4,
  "nbformat_minor": 0,
  "metadata": {
    "colab": {
      "provenance": [],
      "include_colab_link": true
    },
    "kernelspec": {
      "name": "python3",
      "display_name": "Python 3"
    }
  },
  "cells": [
    {
      "cell_type": "markdown",
      "metadata": {
        "id": "view-in-github",
        "colab_type": "text"
      },
      "source": [
        "<a href=\"https://colab.research.google.com/github/cmerino15/teach/blob/main/scipy_interpolation.ipynb\" target=\"_parent\"><img src=\"https://colab.research.google.com/assets/colab-badge.svg\" alt=\"Open In Colab\"/></a>"
      ]
    },
    {
      "cell_type": "code",
      "metadata": {
        "id": "ZtuO10ueMn8X"
      },
      "source": [
        "import numpy as np \n",
        "from scipy import interpolate\n",
        "import matplotlib.pyplot as plt"
      ],
      "execution_count": null,
      "outputs": []
    },
    {
      "cell_type": "markdown",
      "metadata": {
        "id": "Cd0ynyp7-vku"
      },
      "source": [
        "define x range and original y using numpy"
      ]
    },
    {
      "cell_type": "code",
      "metadata": {
        "id": "VNw2P0mUMrPz"
      },
      "source": [
        "x = np.linspace(0,2*np.pi,10)\n",
        "y = np.cos(x**2/3+4) # instead, import dataset using pandas"
      ],
      "execution_count": null,
      "outputs": []
    },
    {
      "cell_type": "markdown",
      "metadata": {
        "id": "m-FRcDk8EmE_"
      },
      "source": [
        "use scipy to define interpolating functions"
      ]
    },
    {
      "cell_type": "code",
      "metadata": {
        "id": "40DkOXwX-lG5"
      },
      "source": [
        "f1 = interpolate.interp1d(x,y, kind ='linear' )\n",
        "f2 = interpolate.interp1d(x,y, kind = 'cubic')"
      ],
      "execution_count": null,
      "outputs": []
    },
    {
      "cell_type": "markdown",
      "metadata": {
        "id": "cMjUok8ZEs1L"
      },
      "source": [
        "creates a new numpy xrange for scipy funcs to be graphed in pyplot"
      ]
    },
    {
      "cell_type": "code",
      "metadata": {
        "id": "qWsXztqtEhcY"
      },
      "source": [
        "xnew = np.linspace(0,6,30) "
      ],
      "execution_count": null,
      "outputs": []
    },
    {
      "cell_type": "code",
      "metadata": {
        "colab": {
          "base_uri": "https://localhost:8080/",
          "height": 295
        },
        "id": "vlwLHqGPPOF9",
        "outputId": "b64ab56c-b311-4d0e-976d-5a600061c76b"
      },
      "source": [
        "plt.plot(x,y,'-', xnew, f1(xnew), 'o', xnew, f2(xnew), 'g--')\n",
        "\n",
        "plt.xlabel(\"x-axis in radians\")\n",
        "plt.ylabel(\"y-axis\")\n",
        "plt.title(\"cosine with interpolating functions\")\n",
        "plt.legend(['y = cos(x^2/3+4)','linear', 'cubic'],loc='best')\n",
        "plt.show()"
      ],
      "execution_count": null,
      "outputs": [
        {
          "output_type": "display_data",
          "data": {
            "image/png": "[encoded data removed]",
            "text/plain": [
              "<Figure size 432x288 with 1 Axes>"
            ]
          },
          "metadata": {
            "needs_background": "light"
          }
        }
      ]
    },
    {
      "cell_type": "code",
      "metadata": {
        "id": "A9aHV9l4PQVD",
        "colab": {
          "base_uri": "https://localhost:8080/"
        },
        "outputId": "9cb2ffaf-ba1a-4fa4-fa74-8bae9e19740d"
      },
      "source": [
        "interpolate.interp1d.__call__(f1,xnew)"
      ],
      "execution_count": null,
      "outputs": [
        {
          "output_type": "execute_result",
          "data": {
            "text/plain": [
              "array([-0.65364362, -0.61481511, -0.57598659, -0.53715808, -0.43730318,\n",
              "       -0.30094119, -0.16457919, -0.00707009,  0.21341145,  0.43389299,\n",
              "        0.65437453,  0.7513813 ,  0.83108513,  0.91078896,  0.77809252,\n",
              "        0.43535063,  0.09260874, -0.23295616, -0.44200823, -0.6510603 ,\n",
              "       -0.86011236, -0.52402862, -0.01026211,  0.5035044 ,  0.7005607 ,\n",
              "        0.38061041,  0.06066012, -0.25727789, -0.21623169, -0.17518549])"
            ]
          },
          "metadata": {},
          "execution_count": 6
        }
      ]
    },
    {
      "cell_type": "code",
      "metadata": {
        "colab": {
          "base_uri": "https://localhost:8080/"
        },
        "id": "ejG8KNxRFyxB",
        "outputId": "13aee4b3-06a8-45bd-8a3d-2b4331af340b"
      },
      "source": [
        "print(f1.x)\n",
        "f1.y"
      ],
      "execution_count": null,
      "outputs": [
        {
          "output_type": "stream",
          "name": "stdout",
          "text": [
            "[0.         0.6981317  1.3962634  2.0943951  2.7925268  3.4906585\n",
            " 4.1887902  4.88692191 5.58505361 6.28318531]\n"
          ]
        },
        {
          "output_type": "execute_result",
          "data": {
            "text/plain": [
              "array([-0.65364362, -0.52262444, -0.06249773,  0.68147385,  0.95041873,\n",
              "       -0.20609634, -0.9115014 ,  0.8221026 , -0.25750669, -0.11900436])"
            ]
          },
          "metadata": {},
          "execution_count": 7
        }
      ]
    },
    {
      "cell_type": "code",
      "metadata": {
        "colab": {
          "base_uri": "https://localhost:8080/"
        },
        "id": "P2DQ1UesFzjt",
        "outputId": "fd375dc4-76fc-4b03-97a8-46713b74b757"
      },
      "source": [
        "interpolate.interp1d.__call__(f1, x)"
      ],
      "execution_count": null,
      "outputs": [
        {
          "output_type": "execute_result",
          "data": {
            "text/plain": [
              "array([-0.65364362, -0.52262444, -0.06249773,  0.68147385,  0.95041873,\n",
              "       -0.20609634, -0.9115014 ,  0.8221026 , -0.25750669, -0.11900436])"
            ]
          },
          "metadata": {},
          "execution_count": 8
        }
      ]
    },
    {
      "cell_type": "code",
      "metadata": {
        "id": "KoHCV1AJHwsr"
      },
      "source": [],
      "execution_count": null,
      "outputs": []
    }
  ]
}
