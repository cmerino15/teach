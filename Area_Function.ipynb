{
  "nbformat": 4,
  "nbformat_minor": 0,
  "metadata": {
    "colab": {
      "provenance": [],
      "include_colab_link": true
    },
    "kernelspec": {
      "name": "python3",
      "display_name": "Python 3"
    },
    "language_info": {
      "name": "python"
    }
  },
  "cells": [
    {
      "cell_type": "markdown",
      "metadata": {
        "id": "view-in-github",
        "colab_type": "text"
      },
      "source": [
        "<a href=\"https://colab.research.google.com/github/cmerino15/teach/blob/main/Area_Function.ipynb\" target=\"_parent\"><img src=\"https://colab.research.google.com/assets/colab-badge.svg\" alt=\"Open In Colab\"/></a>"
      ]
    },
    {
      "cell_type": "code",
      "metadata": {
        "id": "k2JH_gsE57gb"
      },
      "source": [
        "import matplotlib.pyplot as plt\n",
        "import numpy as np\n",
        "# from matplotlib.patches import Polygon"
      ],
      "execution_count": null,
      "outputs": []
    },
    {
      "cell_type": "code",
      "metadata": {
        "colab": {
          "base_uri": "https://localhost:8080/",
          "height": 300
        },
        "id": "Y2sYV4oRFbRZ",
        "outputId": "17a88b2c-759d-4f38-dc67-5b9e577a51b1"
      },
      "source": [
        "a,b = 2, 8 # lims of integ\n",
        "x = np.linspace(0,16)\n",
        "y = np.sqrt(x)\n",
        "fig, ax = plt.subplots()\n",
        "ax.plot(x,y,'-')\n",
        "ax.set_ylim([0,5])\n",
        "ax.text(.5*(a+b), 1, r\"$\\int_a^b f(x)\\mathrm{d}x$\", ha='center', fontsize=15 )\n",
        "\n",
        "# area under between func and x-axis from a to b\n",
        "x1 = np.linspace(a,b)\n",
        "y1 = np.sqrt(x1)\n",
        "ax.fill_between(x1, y1, alpha=.4 )\n",
        "\n",
        "ax.set_title(r\"Area between $\\sqrt{x}$ and x-axis from a=2 to b=8\")\n",
        "ax.text(12,4,r'$f(x)=\\sqrt{x}$', fontsize=\"12\")\n",
        "#plt.show()\n"
      ],
      "execution_count": null,
      "outputs": [
        {
          "output_type": "execute_result",
          "data": {
            "text/plain": [
              "Text(12, 4, '$f(x)=\\\\sqrt{x}$')"
            ]
          },
          "metadata": {},
          "execution_count": 10
        },
        {
          "output_type": "display_data",
          "data": {
            "text/plain": [
              "<Figure size 432x288 with 1 Axes>"
            ],
            "image/png": "[encoded data removed]"
          },
          "metadata": {
            "needs_background": "light"
          }
        }
      ]
    },
    {
      "cell_type": "code",
      "metadata": {
        "id": "egJn9j9BW6U8"
      },
      "source": [],
      "execution_count": null,
      "outputs": []
    }
  ]
}